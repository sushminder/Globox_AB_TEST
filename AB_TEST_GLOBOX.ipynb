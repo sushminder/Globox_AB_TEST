{
 "cells": [
  {
   "cell_type": "markdown",
   "id": "eeec702d",
   "metadata": {},
   "source": [
    "# A/B Test Statistics"
   ]
  },
  {
   "cell_type": "code",
   "execution_count": 1,
   "id": "dabcba83",
   "metadata": {},
   "outputs": [],
   "source": [
    "import pandas as pd\n",
    "import numpy as np\n",
    "import statsmodels.api as sm\n",
    "import matplotlib.pyplot as plt\n",
    "import seaborn as sns\n",
    "import scipy.stats as st\n",
    "from scipy.stats import norm\n",
    "from scipy import stats\n",
    "from statsmodels.stats.proportion import proportions_ztest, proportion_confint\n",
    "from scipy.stats import ttest_ind\n",
    "import statsmodels.api as sm"
   ]
  },
  {
   "cell_type": "code",
   "execution_count": 2,
   "id": "752ac78c",
   "metadata": {},
   "outputs": [],
   "source": [
    "df = pd.read_csv(\"Globox_project_masterschool.csv\")"
   ]
  },
  {
   "cell_type": "code",
   "execution_count": 3,
   "id": "d62a7b08",
   "metadata": {},
   "outputs": [
    {
     "data": {
      "text/html": [
       "<div>\n",
       "<style scoped>\n",
       "    .dataframe tbody tr th:only-of-type {\n",
       "        vertical-align: middle;\n",
       "    }\n",
       "\n",
       "    .dataframe tbody tr th {\n",
       "        vertical-align: top;\n",
       "    }\n",
       "\n",
       "    .dataframe thead th {\n",
       "        text-align: right;\n",
       "    }\n",
       "</style>\n",
       "<table border=\"1\" class=\"dataframe\">\n",
       "  <thead>\n",
       "    <tr style=\"text-align: right;\">\n",
       "      <th></th>\n",
       "      <th>user_id</th>\n",
       "      <th>country</th>\n",
       "      <th>gender</th>\n",
       "      <th>device_type</th>\n",
       "      <th>group_type</th>\n",
       "      <th>converted</th>\n",
       "      <th>total_spent</th>\n",
       "    </tr>\n",
       "  </thead>\n",
       "  <tbody>\n",
       "    <tr>\n",
       "      <th>0</th>\n",
       "      <td>1000000</td>\n",
       "      <td>CAN</td>\n",
       "      <td>M</td>\n",
       "      <td>i_phone</td>\n",
       "      <td>Treatment</td>\n",
       "      <td>0</td>\n",
       "      <td>0.0</td>\n",
       "    </tr>\n",
       "    <tr>\n",
       "      <th>1</th>\n",
       "      <td>1000001</td>\n",
       "      <td>BRA</td>\n",
       "      <td>M</td>\n",
       "      <td>android</td>\n",
       "      <td>Control</td>\n",
       "      <td>0</td>\n",
       "      <td>0.0</td>\n",
       "    </tr>\n",
       "    <tr>\n",
       "      <th>2</th>\n",
       "      <td>1000002</td>\n",
       "      <td>FRA</td>\n",
       "      <td>M</td>\n",
       "      <td>android</td>\n",
       "      <td>Control</td>\n",
       "      <td>0</td>\n",
       "      <td>0.0</td>\n",
       "    </tr>\n",
       "    <tr>\n",
       "      <th>3</th>\n",
       "      <td>1000003</td>\n",
       "      <td>BRA</td>\n",
       "      <td>M</td>\n",
       "      <td>i_phone</td>\n",
       "      <td>Treatment</td>\n",
       "      <td>0</td>\n",
       "      <td>0.0</td>\n",
       "    </tr>\n",
       "    <tr>\n",
       "      <th>4</th>\n",
       "      <td>1000004</td>\n",
       "      <td>DEU</td>\n",
       "      <td>F</td>\n",
       "      <td>android</td>\n",
       "      <td>Control</td>\n",
       "      <td>0</td>\n",
       "      <td>0.0</td>\n",
       "    </tr>\n",
       "    <tr>\n",
       "      <th>5</th>\n",
       "      <td>1000005</td>\n",
       "      <td>GBR</td>\n",
       "      <td>F</td>\n",
       "      <td>android</td>\n",
       "      <td>Treatment</td>\n",
       "      <td>0</td>\n",
       "      <td>0.0</td>\n",
       "    </tr>\n",
       "    <tr>\n",
       "      <th>6</th>\n",
       "      <td>1000006</td>\n",
       "      <td>ESP</td>\n",
       "      <td>M</td>\n",
       "      <td>android</td>\n",
       "      <td>Treatment</td>\n",
       "      <td>0</td>\n",
       "      <td>0.0</td>\n",
       "    </tr>\n",
       "    <tr>\n",
       "      <th>7</th>\n",
       "      <td>1000007</td>\n",
       "      <td>BRA</td>\n",
       "      <td>F</td>\n",
       "      <td>android</td>\n",
       "      <td>Control</td>\n",
       "      <td>0</td>\n",
       "      <td>0.0</td>\n",
       "    </tr>\n",
       "    <tr>\n",
       "      <th>8</th>\n",
       "      <td>1000008</td>\n",
       "      <td>BRA</td>\n",
       "      <td>F</td>\n",
       "      <td>android</td>\n",
       "      <td>Control</td>\n",
       "      <td>0</td>\n",
       "      <td>0.0</td>\n",
       "    </tr>\n",
       "    <tr>\n",
       "      <th>9</th>\n",
       "      <td>1000009</td>\n",
       "      <td>USA</td>\n",
       "      <td>NaN</td>\n",
       "      <td>android</td>\n",
       "      <td>Control</td>\n",
       "      <td>0</td>\n",
       "      <td>0.0</td>\n",
       "    </tr>\n",
       "    <tr>\n",
       "      <th>10</th>\n",
       "      <td>1000010</td>\n",
       "      <td>BRA</td>\n",
       "      <td>M</td>\n",
       "      <td>i_phone</td>\n",
       "      <td>Treatment</td>\n",
       "      <td>0</td>\n",
       "      <td>0.0</td>\n",
       "    </tr>\n",
       "    <tr>\n",
       "      <th>11</th>\n",
       "      <td>1000012</td>\n",
       "      <td>USA</td>\n",
       "      <td>M</td>\n",
       "      <td>android</td>\n",
       "      <td>Treatment</td>\n",
       "      <td>0</td>\n",
       "      <td>0.0</td>\n",
       "    </tr>\n",
       "    <tr>\n",
       "      <th>12</th>\n",
       "      <td>1000013</td>\n",
       "      <td>GBR</td>\n",
       "      <td>F</td>\n",
       "      <td>android</td>\n",
       "      <td>Control</td>\n",
       "      <td>0</td>\n",
       "      <td>0.0</td>\n",
       "    </tr>\n",
       "    <tr>\n",
       "      <th>13</th>\n",
       "      <td>1000014</td>\n",
       "      <td>USA</td>\n",
       "      <td>M</td>\n",
       "      <td>android</td>\n",
       "      <td>Control</td>\n",
       "      <td>0</td>\n",
       "      <td>0.0</td>\n",
       "    </tr>\n",
       "    <tr>\n",
       "      <th>14</th>\n",
       "      <td>1000015</td>\n",
       "      <td>AUS</td>\n",
       "      <td>F</td>\n",
       "      <td>android</td>\n",
       "      <td>Control</td>\n",
       "      <td>0</td>\n",
       "      <td>0.0</td>\n",
       "    </tr>\n",
       "    <tr>\n",
       "      <th>15</th>\n",
       "      <td>1000016</td>\n",
       "      <td>DEU</td>\n",
       "      <td>F</td>\n",
       "      <td>i_phone</td>\n",
       "      <td>Control</td>\n",
       "      <td>0</td>\n",
       "      <td>0.0</td>\n",
       "    </tr>\n",
       "    <tr>\n",
       "      <th>16</th>\n",
       "      <td>1000017</td>\n",
       "      <td>MEX</td>\n",
       "      <td>O</td>\n",
       "      <td>android</td>\n",
       "      <td>Treatment</td>\n",
       "      <td>0</td>\n",
       "      <td>0.0</td>\n",
       "    </tr>\n",
       "    <tr>\n",
       "      <th>17</th>\n",
       "      <td>1000018</td>\n",
       "      <td>USA</td>\n",
       "      <td>M</td>\n",
       "      <td>i_phone</td>\n",
       "      <td>Treatment</td>\n",
       "      <td>0</td>\n",
       "      <td>0.0</td>\n",
       "    </tr>\n",
       "    <tr>\n",
       "      <th>18</th>\n",
       "      <td>1000019</td>\n",
       "      <td>MEX</td>\n",
       "      <td>F</td>\n",
       "      <td>android</td>\n",
       "      <td>Treatment</td>\n",
       "      <td>0</td>\n",
       "      <td>0.0</td>\n",
       "    </tr>\n",
       "    <tr>\n",
       "      <th>19</th>\n",
       "      <td>1000020</td>\n",
       "      <td>AUS</td>\n",
       "      <td>M</td>\n",
       "      <td>android</td>\n",
       "      <td>Control</td>\n",
       "      <td>0</td>\n",
       "      <td>0.0</td>\n",
       "    </tr>\n",
       "  </tbody>\n",
       "</table>\n",
       "</div>"
      ],
      "text/plain": [
       "    user_id country gender device_type group_type  converted  total_spent\n",
       "0   1000000     CAN      M     i_phone  Treatment          0          0.0\n",
       "1   1000001     BRA      M     android    Control          0          0.0\n",
       "2   1000002     FRA      M     android    Control          0          0.0\n",
       "3   1000003     BRA      M     i_phone  Treatment          0          0.0\n",
       "4   1000004     DEU      F     android    Control          0          0.0\n",
       "5   1000005     GBR      F     android  Treatment          0          0.0\n",
       "6   1000006     ESP      M     android  Treatment          0          0.0\n",
       "7   1000007     BRA      F     android    Control          0          0.0\n",
       "8   1000008     BRA      F     android    Control          0          0.0\n",
       "9   1000009     USA    NaN     android    Control          0          0.0\n",
       "10  1000010     BRA      M     i_phone  Treatment          0          0.0\n",
       "11  1000012     USA      M     android  Treatment          0          0.0\n",
       "12  1000013     GBR      F     android    Control          0          0.0\n",
       "13  1000014     USA      M     android    Control          0          0.0\n",
       "14  1000015     AUS      F     android    Control          0          0.0\n",
       "15  1000016     DEU      F     i_phone    Control          0          0.0\n",
       "16  1000017     MEX      O     android  Treatment          0          0.0\n",
       "17  1000018     USA      M     i_phone  Treatment          0          0.0\n",
       "18  1000019     MEX      F     android  Treatment          0          0.0\n",
       "19  1000020     AUS      M     android    Control          0          0.0"
      ]
     },
     "execution_count": 3,
     "metadata": {},
     "output_type": "execute_result"
    }
   ],
   "source": [
    "df.head(20)"
   ]
  },
  {
   "cell_type": "code",
   "execution_count": 4,
   "id": "62fbd536",
   "metadata": {},
   "outputs": [
    {
     "data": {
      "text/plain": [
       "(48943, 7)"
      ]
     },
     "execution_count": 4,
     "metadata": {},
     "output_type": "execute_result"
    }
   ],
   "source": [
    "df.shape"
   ]
  },
  {
   "cell_type": "code",
   "execution_count": 5,
   "id": "2a163d2c",
   "metadata": {},
   "outputs": [
    {
     "data": {
      "text/html": [
       "<div>\n",
       "<style scoped>\n",
       "    .dataframe tbody tr th:only-of-type {\n",
       "        vertical-align: middle;\n",
       "    }\n",
       "\n",
       "    .dataframe tbody tr th {\n",
       "        vertical-align: top;\n",
       "    }\n",
       "\n",
       "    .dataframe thead th {\n",
       "        text-align: right;\n",
       "    }\n",
       "</style>\n",
       "<table border=\"1\" class=\"dataframe\">\n",
       "  <thead>\n",
       "    <tr style=\"text-align: right;\">\n",
       "      <th></th>\n",
       "      <th>user_id</th>\n",
       "      <th>converted</th>\n",
       "      <th>total_spent</th>\n",
       "    </tr>\n",
       "  </thead>\n",
       "  <tbody>\n",
       "    <tr>\n",
       "      <th>count</th>\n",
       "      <td>4.894300e+04</td>\n",
       "      <td>48943.000000</td>\n",
       "      <td>48943.000000</td>\n",
       "    </tr>\n",
       "    <tr>\n",
       "      <th>mean</th>\n",
       "      <td>1.025001e+06</td>\n",
       "      <td>0.042784</td>\n",
       "      <td>3.382736</td>\n",
       "    </tr>\n",
       "    <tr>\n",
       "      <th>std</th>\n",
       "      <td>1.443521e+04</td>\n",
       "      <td>0.202373</td>\n",
       "      <td>25.674946</td>\n",
       "    </tr>\n",
       "    <tr>\n",
       "      <th>min</th>\n",
       "      <td>1.000000e+06</td>\n",
       "      <td>0.000000</td>\n",
       "      <td>0.000000</td>\n",
       "    </tr>\n",
       "    <tr>\n",
       "      <th>25%</th>\n",
       "      <td>1.012506e+06</td>\n",
       "      <td>0.000000</td>\n",
       "      <td>0.000000</td>\n",
       "    </tr>\n",
       "    <tr>\n",
       "      <th>50%</th>\n",
       "      <td>1.024996e+06</td>\n",
       "      <td>0.000000</td>\n",
       "      <td>0.000000</td>\n",
       "    </tr>\n",
       "    <tr>\n",
       "      <th>75%</th>\n",
       "      <td>1.037504e+06</td>\n",
       "      <td>0.000000</td>\n",
       "      <td>0.000000</td>\n",
       "    </tr>\n",
       "    <tr>\n",
       "      <th>max</th>\n",
       "      <td>1.049999e+06</td>\n",
       "      <td>1.000000</td>\n",
       "      <td>1659.400000</td>\n",
       "    </tr>\n",
       "  </tbody>\n",
       "</table>\n",
       "</div>"
      ],
      "text/plain": [
       "            user_id     converted   total_spent\n",
       "count  4.894300e+04  48943.000000  48943.000000\n",
       "mean   1.025001e+06      0.042784      3.382736\n",
       "std    1.443521e+04      0.202373     25.674946\n",
       "min    1.000000e+06      0.000000      0.000000\n",
       "25%    1.012506e+06      0.000000      0.000000\n",
       "50%    1.024996e+06      0.000000      0.000000\n",
       "75%    1.037504e+06      0.000000      0.000000\n",
       "max    1.049999e+06      1.000000   1659.400000"
      ]
     },
     "execution_count": 5,
     "metadata": {},
     "output_type": "execute_result"
    }
   ],
   "source": [
    "df.describe()"
   ]
  },
  {
   "cell_type": "code",
   "execution_count": 6,
   "id": "371aeb1b",
   "metadata": {},
   "outputs": [
    {
     "data": {
      "text/plain": [
       "user_id           0\n",
       "country           0\n",
       "gender         6855\n",
       "device_type       0\n",
       "group_type        0\n",
       "converted         0\n",
       "total_spent       0\n",
       "dtype: int64"
      ]
     },
     "execution_count": 6,
     "metadata": {},
     "output_type": "execute_result"
    }
   ],
   "source": [
    "null_values = df.isnull().sum()\n",
    "null_values"
   ]
  },
  {
   "cell_type": "code",
   "execution_count": 7,
   "id": "accada29",
   "metadata": {},
   "outputs": [],
   "source": [
    "df['gender'].fillna('Unknown', inplace=True)\n",
    "df['gender'].replace({'O': 'Unknown', 'Unknown': 'Unknown'}, inplace=True)"
   ]
  },
  {
   "cell_type": "code",
   "execution_count": 8,
   "id": "c73dd128",
   "metadata": {},
   "outputs": [
    {
     "data": {
      "text/plain": [
       "gender\n",
       "M          20289\n",
       "F          20130\n",
       "Unknown     8524\n",
       "Name: count, dtype: int64"
      ]
     },
     "execution_count": 8,
     "metadata": {},
     "output_type": "execute_result"
    }
   ],
   "source": [
    "df['gender'].value_counts()"
   ]
  },
  {
   "cell_type": "code",
   "execution_count": 9,
   "id": "544d25ed",
   "metadata": {},
   "outputs": [
    {
     "data": {
      "text/plain": [
       "0"
      ]
     },
     "execution_count": 9,
     "metadata": {},
     "output_type": "execute_result"
    }
   ],
   "source": [
    "duplicates = df.duplicated().sum()\n",
    "duplicates"
   ]
  },
  {
   "cell_type": "code",
   "execution_count": 10,
   "id": "cea4975f",
   "metadata": {},
   "outputs": [
    {
     "data": {
      "text/plain": [
       "converted\n",
       "0    23388\n",
       "1      955\n",
       "Name: count, dtype: int64"
      ]
     },
     "execution_count": 10,
     "metadata": {},
     "output_type": "execute_result"
    }
   ],
   "source": [
    "control_df = df[df['group_type'] == 'Control']\n",
    "control_df['converted'].value_counts()"
   ]
  },
  {
   "cell_type": "code",
   "execution_count": 11,
   "id": "71c6ef58",
   "metadata": {},
   "outputs": [
    {
     "data": {
      "text/plain": [
       "converted\n",
       "0    23461\n",
       "1     1139\n",
       "Name: count, dtype: int64"
      ]
     },
     "execution_count": 11,
     "metadata": {},
     "output_type": "execute_result"
    }
   ],
   "source": [
    "treatment_df = df[df['group_type'] == 'Treatment']\n",
    "treatment_df['converted'].value_counts()"
   ]
  },
  {
   "cell_type": "markdown",
   "id": "7168ebe4",
   "metadata": {},
   "source": [
    "# Conduct a hypothesis test to see whether there is a difference in the conversion rate between the two groups. What are the resulting p-value and conclusion?"
   ]
  },
  {
   "cell_type": "markdown",
   "id": "ef8daee3",
   "metadata": {},
   "source": [
    "Null Hypothesis (H0):\n",
    "There is no significant difference in the conversion rates between the treatment and control groups.\n",
    "\n",
    "Alternative Hypothesis (H1):\n",
    "There is a significant difference in the conversion rates between thetreatment and control groups.\n"
   ]
  },
  {
   "cell_type": "code",
   "execution_count": 12,
   "id": "9238c522",
   "metadata": {},
   "outputs": [
    {
     "data": {
      "image/png": "[encoded data removed]",
      "text/plain": [
       "<Figure size 640x480 with 1 Axes>"
      ]
     },
     "metadata": {},
     "output_type": "display_data"
    }
   ],
   "source": [
    "sns.barplot(x=df['group_type'], y=df['converted'])\n",
    "plt.xlabel('group')\n",
    "plt.ylabel('converted')\n",
    "plt.title('Conversion_rate')\n",
    "plt.show()"
   ]
  },
  {
   "cell_type": "markdown",
   "id": "7194c737",
   "metadata": {},
   "source": [
    "We are working with proportions (conversion rates), comparing two independent samples, and considering a two-sided alternative hypothesis.\n",
    "Therefore, we will use a two-sample z-test for proportions"
   ]
  },
  {
   "cell_type": "code",
   "execution_count": 13,
   "id": "ff4679fd",
   "metadata": {},
   "outputs": [
    {
     "data": {
      "text/plain": [
       "group_type\n",
       "Control      24343\n",
       "Treatment    24600\n",
       "Name: user_id, dtype: int64"
      ]
     },
     "execution_count": 13,
     "metadata": {},
     "output_type": "execute_result"
    }
   ],
   "source": [
    "#lets check for the sample size\n",
    "total_users = df.groupby('group_type')['user_id'].count()\n",
    "total_users"
   ]
  },
  {
   "cell_type": "code",
   "execution_count": 14,
   "id": "7d09e1d0",
   "metadata": {},
   "outputs": [
    {
     "data": {
      "text/html": [
       "<div>\n",
       "<style scoped>\n",
       "    .dataframe tbody tr th:only-of-type {\n",
       "        vertical-align: middle;\n",
       "    }\n",
       "\n",
       "    .dataframe tbody tr th {\n",
       "        vertical-align: top;\n",
       "    }\n",
       "\n",
       "    .dataframe thead th {\n",
       "        text-align: right;\n",
       "    }\n",
       "</style>\n",
       "<table border=\"1\" class=\"dataframe\">\n",
       "  <thead>\n",
       "    <tr style=\"text-align: right;\">\n",
       "      <th></th>\n",
       "      <th>user_id</th>\n",
       "      <th>country</th>\n",
       "      <th>gender</th>\n",
       "      <th>device_type</th>\n",
       "      <th>group_type</th>\n",
       "      <th>converted</th>\n",
       "      <th>total_spent</th>\n",
       "    </tr>\n",
       "  </thead>\n",
       "  <tbody>\n",
       "    <tr>\n",
       "      <th>137</th>\n",
       "      <td>1000141</td>\n",
       "      <td>BRA</td>\n",
       "      <td>M</td>\n",
       "      <td>android</td>\n",
       "      <td>Control</td>\n",
       "      <td>1</td>\n",
       "      <td>11.49</td>\n",
       "    </tr>\n",
       "    <tr>\n",
       "      <th>154</th>\n",
       "      <td>1000160</td>\n",
       "      <td>USA</td>\n",
       "      <td>F</td>\n",
       "      <td>android</td>\n",
       "      <td>Control</td>\n",
       "      <td>1</td>\n",
       "      <td>35.34</td>\n",
       "    </tr>\n",
       "    <tr>\n",
       "      <th>156</th>\n",
       "      <td>1000162</td>\n",
       "      <td>BRA</td>\n",
       "      <td>M</td>\n",
       "      <td>android</td>\n",
       "      <td>Control</td>\n",
       "      <td>1</td>\n",
       "      <td>52.92</td>\n",
       "    </tr>\n",
       "    <tr>\n",
       "      <th>193</th>\n",
       "      <td>1000200</td>\n",
       "      <td>USA</td>\n",
       "      <td>F</td>\n",
       "      <td>i_phone</td>\n",
       "      <td>Control</td>\n",
       "      <td>1</td>\n",
       "      <td>166.32</td>\n",
       "    </tr>\n",
       "    <tr>\n",
       "      <th>254</th>\n",
       "      <td>1000261</td>\n",
       "      <td>TUR</td>\n",
       "      <td>F</td>\n",
       "      <td>android</td>\n",
       "      <td>Control</td>\n",
       "      <td>1</td>\n",
       "      <td>205.98</td>\n",
       "    </tr>\n",
       "    <tr>\n",
       "      <th>...</th>\n",
       "      <td>...</td>\n",
       "      <td>...</td>\n",
       "      <td>...</td>\n",
       "      <td>...</td>\n",
       "      <td>...</td>\n",
       "      <td>...</td>\n",
       "      <td>...</td>\n",
       "    </tr>\n",
       "    <tr>\n",
       "      <th>48780</th>\n",
       "      <td>1049834</td>\n",
       "      <td>USA</td>\n",
       "      <td>F</td>\n",
       "      <td>i_phone</td>\n",
       "      <td>Control</td>\n",
       "      <td>1</td>\n",
       "      <td>160.35</td>\n",
       "    </tr>\n",
       "    <tr>\n",
       "      <th>48819</th>\n",
       "      <td>1049874</td>\n",
       "      <td>USA</td>\n",
       "      <td>M</td>\n",
       "      <td>i_phone</td>\n",
       "      <td>Control</td>\n",
       "      <td>1</td>\n",
       "      <td>29.89</td>\n",
       "    </tr>\n",
       "    <tr>\n",
       "      <th>48825</th>\n",
       "      <td>1049880</td>\n",
       "      <td>TUR</td>\n",
       "      <td>M</td>\n",
       "      <td>i_phone</td>\n",
       "      <td>Control</td>\n",
       "      <td>1</td>\n",
       "      <td>186.69</td>\n",
       "    </tr>\n",
       "    <tr>\n",
       "      <th>48839</th>\n",
       "      <td>1049894</td>\n",
       "      <td>BRA</td>\n",
       "      <td>F</td>\n",
       "      <td>i_phone</td>\n",
       "      <td>Control</td>\n",
       "      <td>1</td>\n",
       "      <td>34.05</td>\n",
       "    </tr>\n",
       "    <tr>\n",
       "      <th>48871</th>\n",
       "      <td>1049927</td>\n",
       "      <td>AUS</td>\n",
       "      <td>F</td>\n",
       "      <td>android</td>\n",
       "      <td>Control</td>\n",
       "      <td>1</td>\n",
       "      <td>52.03</td>\n",
       "    </tr>\n",
       "  </tbody>\n",
       "</table>\n",
       "<p>955 rows × 7 columns</p>\n",
       "</div>"
      ],
      "text/plain": [
       "       user_id country gender device_type group_type  converted  total_spent\n",
       "137    1000141     BRA      M     android    Control          1        11.49\n",
       "154    1000160     USA      F     android    Control          1        35.34\n",
       "156    1000162     BRA      M     android    Control          1        52.92\n",
       "193    1000200     USA      F     i_phone    Control          1       166.32\n",
       "254    1000261     TUR      F     android    Control          1       205.98\n",
       "...        ...     ...    ...         ...        ...        ...          ...\n",
       "48780  1049834     USA      F     i_phone    Control          1       160.35\n",
       "48819  1049874     USA      M     i_phone    Control          1        29.89\n",
       "48825  1049880     TUR      M     i_phone    Control          1       186.69\n",
       "48839  1049894     BRA      F     i_phone    Control          1        34.05\n",
       "48871  1049927     AUS      F     android    Control          1        52.03\n",
       "\n",
       "[955 rows x 7 columns]"
      ]
     },
     "execution_count": 14,
     "metadata": {},
     "output_type": "execute_result"
    }
   ],
   "source": [
    "control_converted = df[(df['group_type'] == 'Control') & (df['total_spent'] != 0)]\n",
    "control_converted"
   ]
  },
  {
   "cell_type": "code",
   "execution_count": 15,
   "id": "43152dfd",
   "metadata": {},
   "outputs": [
    {
     "data": {
      "text/html": [
       "<div>\n",
       "<style scoped>\n",
       "    .dataframe tbody tr th:only-of-type {\n",
       "        vertical-align: middle;\n",
       "    }\n",
       "\n",
       "    .dataframe tbody tr th {\n",
       "        vertical-align: top;\n",
       "    }\n",
       "\n",
       "    .dataframe thead th {\n",
       "        text-align: right;\n",
       "    }\n",
       "</style>\n",
       "<table border=\"1\" class=\"dataframe\">\n",
       "  <thead>\n",
       "    <tr style=\"text-align: right;\">\n",
       "      <th></th>\n",
       "      <th>user_id</th>\n",
       "      <th>country</th>\n",
       "      <th>gender</th>\n",
       "      <th>device_type</th>\n",
       "      <th>group_type</th>\n",
       "      <th>converted</th>\n",
       "      <th>total_spent</th>\n",
       "    </tr>\n",
       "  </thead>\n",
       "  <tbody>\n",
       "    <tr>\n",
       "      <th>38</th>\n",
       "      <td>1000039</td>\n",
       "      <td>GBR</td>\n",
       "      <td>F</td>\n",
       "      <td>android</td>\n",
       "      <td>Treatment</td>\n",
       "      <td>1</td>\n",
       "      <td>36.650000</td>\n",
       "    </tr>\n",
       "    <tr>\n",
       "      <th>44</th>\n",
       "      <td>1000045</td>\n",
       "      <td>USA</td>\n",
       "      <td>F</td>\n",
       "      <td>i_phone</td>\n",
       "      <td>Treatment</td>\n",
       "      <td>1</td>\n",
       "      <td>51.580000</td>\n",
       "    </tr>\n",
       "    <tr>\n",
       "      <th>69</th>\n",
       "      <td>1000071</td>\n",
       "      <td>USA</td>\n",
       "      <td>F</td>\n",
       "      <td>i_phone</td>\n",
       "      <td>Treatment</td>\n",
       "      <td>1</td>\n",
       "      <td>6.710000</td>\n",
       "    </tr>\n",
       "    <tr>\n",
       "      <th>98</th>\n",
       "      <td>1000101</td>\n",
       "      <td>MEX</td>\n",
       "      <td>F</td>\n",
       "      <td>android</td>\n",
       "      <td>Treatment</td>\n",
       "      <td>1</td>\n",
       "      <td>23.804497</td>\n",
       "    </tr>\n",
       "    <tr>\n",
       "      <th>119</th>\n",
       "      <td>1000123</td>\n",
       "      <td>DEU</td>\n",
       "      <td>Unknown</td>\n",
       "      <td>i_phone</td>\n",
       "      <td>Treatment</td>\n",
       "      <td>1</td>\n",
       "      <td>100.740000</td>\n",
       "    </tr>\n",
       "    <tr>\n",
       "      <th>...</th>\n",
       "      <td>...</td>\n",
       "      <td>...</td>\n",
       "      <td>...</td>\n",
       "      <td>...</td>\n",
       "      <td>...</td>\n",
       "      <td>...</td>\n",
       "      <td>...</td>\n",
       "    </tr>\n",
       "    <tr>\n",
       "      <th>48646</th>\n",
       "      <td>1049698</td>\n",
       "      <td>DEU</td>\n",
       "      <td>Unknown</td>\n",
       "      <td>i_phone</td>\n",
       "      <td>Treatment</td>\n",
       "      <td>1</td>\n",
       "      <td>92.190000</td>\n",
       "    </tr>\n",
       "    <tr>\n",
       "      <th>48677</th>\n",
       "      <td>1049729</td>\n",
       "      <td>USA</td>\n",
       "      <td>F</td>\n",
       "      <td>android</td>\n",
       "      <td>Treatment</td>\n",
       "      <td>1</td>\n",
       "      <td>122.730000</td>\n",
       "    </tr>\n",
       "    <tr>\n",
       "      <th>48714</th>\n",
       "      <td>1049766</td>\n",
       "      <td>FRA</td>\n",
       "      <td>F</td>\n",
       "      <td>android</td>\n",
       "      <td>Treatment</td>\n",
       "      <td>1</td>\n",
       "      <td>61.070000</td>\n",
       "    </tr>\n",
       "    <tr>\n",
       "      <th>48836</th>\n",
       "      <td>1049891</td>\n",
       "      <td>BRA</td>\n",
       "      <td>F</td>\n",
       "      <td>android</td>\n",
       "      <td>Treatment</td>\n",
       "      <td>1</td>\n",
       "      <td>47.140000</td>\n",
       "    </tr>\n",
       "    <tr>\n",
       "      <th>48916</th>\n",
       "      <td>1049973</td>\n",
       "      <td>MEX</td>\n",
       "      <td>F</td>\n",
       "      <td>android</td>\n",
       "      <td>Treatment</td>\n",
       "      <td>1</td>\n",
       "      <td>85.930000</td>\n",
       "    </tr>\n",
       "  </tbody>\n",
       "</table>\n",
       "<p>1139 rows × 7 columns</p>\n",
       "</div>"
      ],
      "text/plain": [
       "       user_id country   gender device_type group_type  converted  total_spent\n",
       "38     1000039     GBR        F     android  Treatment          1    36.650000\n",
       "44     1000045     USA        F     i_phone  Treatment          1    51.580000\n",
       "69     1000071     USA        F     i_phone  Treatment          1     6.710000\n",
       "98     1000101     MEX        F     android  Treatment          1    23.804497\n",
       "119    1000123     DEU  Unknown     i_phone  Treatment          1   100.740000\n",
       "...        ...     ...      ...         ...        ...        ...          ...\n",
       "48646  1049698     DEU  Unknown     i_phone  Treatment          1    92.190000\n",
       "48677  1049729     USA        F     android  Treatment          1   122.730000\n",
       "48714  1049766     FRA        F     android  Treatment          1    61.070000\n",
       "48836  1049891     BRA        F     android  Treatment          1    47.140000\n",
       "48916  1049973     MEX        F     android  Treatment          1    85.930000\n",
       "\n",
       "[1139 rows x 7 columns]"
      ]
     },
     "execution_count": 15,
     "metadata": {},
     "output_type": "execute_result"
    }
   ],
   "source": [
    "treatment_converted = df[(df['group_type'] == 'Treatment') & (df['total_spent'] != 0)]\n",
    "treatment_converted"
   ]
  },
  {
   "cell_type": "code",
   "execution_count": 16,
   "id": "dcc46e26",
   "metadata": {},
   "outputs": [
    {
     "data": {
      "text/plain": [
       "0.03923099042845993"
      ]
     },
     "execution_count": 16,
     "metadata": {},
     "output_type": "execute_result"
    }
   ],
   "source": [
    "# Conversion rates\n",
    "control_conversion_rate = (955/24343)\n",
    "control_conversion_rate "
   ]
  },
  {
   "cell_type": "code",
   "execution_count": 17,
   "id": "5335f124",
   "metadata": {},
   "outputs": [
    {
     "data": {
      "text/plain": [
       "0.04630081300813008"
      ]
     },
     "execution_count": 17,
     "metadata": {},
     "output_type": "execute_result"
    }
   ],
   "source": [
    "treatment_conversion_rate = (1139/24600) \n",
    "treatment_conversion_rate "
   ]
  },
  {
   "cell_type": "code",
   "execution_count": 18,
   "id": "4238995f",
   "metadata": {},
   "outputs": [
    {
     "name": "stdout",
     "output_type": "stream",
     "text": [
      "z statistic: 3.86\n",
      "p-value: 0.0001\n"
     ]
    }
   ],
   "source": [
    "n1= len(treatment_df[\"converted\"])\n",
    "n2= len(control_df[\"converted\"])\n",
    "total = [treatment_converted[\"converted\"].sum(),control_converted[\"converted\"].sum()]\n",
    "n_ab = [n1,n2]\n",
    "\n",
    "z_stat, pval = proportions_ztest(total, nobs=n_ab,alternative = 'two-sided')\n",
    "print(f'z statistic: {z_stat:.2f}')\n",
    "print(f'p-value: {pval:.4f}')\n"
   ]
  },
  {
   "cell_type": "markdown",
   "id": "409265b6",
   "metadata": {},
   "source": [
    "The Z statistic of 3.86 suggests that the observed data point is 3.86 standard deviations away from the mean. The p-value of 0.0001 is very small less than 0.05, we reject the Null Hypothesis. \n",
    "This means we would conclude that there is a significant difference in the conversion rates between the treatment and control groups. "
   ]
  },
  {
   "cell_type": "code",
   "execution_count": 23,
   "id": "c861af3a",
   "metadata": {},
   "outputs": [],
   "source": [
    "def two_proprotions_confint(success_a, size_a, success_b, size_b, significance = 0.05):\n",
    "    prop_a = success_a / size_a\n",
    "    prop_b = success_b / size_b\n",
    "    var = prop_a * (1 - prop_a) / size_a + prop_b * (1 - prop_b) / size_b\n",
    "    se = np.sqrt(var)\n",
    "    \n",
    "    # z critical value\n",
    "    confidence = 1 - significance\n",
    "    z = stats.norm(loc = 0, scale = 1).ppf(confidence + significance / 2)\n",
    "\n",
    "    # standard formula for the confidence interval\n",
    "    # point-estimtate +- z * standard-error\n",
    "    prop_diff = prop_b - prop_a\n",
    "    confint = prop_diff + np.array([-1, 1]) * z * se\n",
    "    return prop_diff, confint"
   ]
  },
  {
   "cell_type": "code",
   "execution_count": 24,
   "id": "dc1e76bf",
   "metadata": {},
   "outputs": [
    {
     "name": "stdout",
     "output_type": "stream",
     "text": [
      "estimate difference: 0.0070698225796701555\n",
      "confidence interval: [0.00348605 0.01065359]\n"
     ]
    }
   ],
   "source": [
    "success_a = 1139\n",
    "size_a = 24600\n",
    "success_b = 955\n",
    "size_b = 24343\n",
    "prop_a = success_a / size_a\n",
    "prop_b = success_b / size_b\n",
    "prop_diff, confint = two_proprotions_confint(success_b, size_b, success_a, size_a)\n",
    "print('estimate difference:', prop_diff)\n",
    "print('confidence interval:', confint)"
   ]
  },
  {
   "cell_type": "markdown",
   "id": "dd18ad14",
   "metadata": {},
   "source": [
    "Here estimate difference indicates that on average, the conversion rate in the treatment group is estimated to be 0.00707 units higher than the conversion rate in the control group. \n",
    "And confidence interval indicates that you can be 95% confident that the true difference in conversion rates between the treatment and control groups is somewhere between 0.00348605 and 0.01065359."
   ]
  },
  {
   "cell_type": "markdown",
   "id": "1a0a1fbf",
   "metadata": {},
   "source": [
    "# Conduct a hypothesis test to see whether there is a difference in the average amount spent per user between the two groups. What are the resulting p-value and conclusion?"
   ]
  },
  {
   "cell_type": "code",
   "execution_count": 25,
   "id": "40ffd3dc",
   "metadata": {},
   "outputs": [
    {
     "data": {
      "image/png": "[encoded data removed]",
      "text/plain": [
       "<Figure size 640x480 with 1 Axes>"
      ]
     },
     "metadata": {},
     "output_type": "display_data"
    }
   ],
   "source": [
    "sns.barplot(x=df['group_type'], y=df['total_spent'])\n",
    "plt.xlabel('group')\n",
    "plt.ylabel('total_spent')\n",
    "plt.title('Total_spent by both group')\n",
    "plt.show()"
   ]
  },
  {
   "cell_type": "code",
   "execution_count": 26,
   "id": "ffecc2ae",
   "metadata": {},
   "outputs": [
    {
     "data": {
      "text/html": [
       "<div>\n",
       "<style scoped>\n",
       "    .dataframe tbody tr th:only-of-type {\n",
       "        vertical-align: middle;\n",
       "    }\n",
       "\n",
       "    .dataframe tbody tr th {\n",
       "        vertical-align: top;\n",
       "    }\n",
       "\n",
       "    .dataframe thead th {\n",
       "        text-align: right;\n",
       "    }\n",
       "</style>\n",
       "<table border=\"1\" class=\"dataframe\">\n",
       "  <thead>\n",
       "    <tr style=\"text-align: right;\">\n",
       "      <th></th>\n",
       "      <th>user_id</th>\n",
       "      <th>converted</th>\n",
       "      <th>total_spent</th>\n",
       "    </tr>\n",
       "  </thead>\n",
       "  <tbody>\n",
       "    <tr>\n",
       "      <th>count</th>\n",
       "      <td>2.434300e+04</td>\n",
       "      <td>24343.000000</td>\n",
       "      <td>24343.000000</td>\n",
       "    </tr>\n",
       "    <tr>\n",
       "      <th>mean</th>\n",
       "      <td>1.025020e+06</td>\n",
       "      <td>0.039231</td>\n",
       "      <td>3.374518</td>\n",
       "    </tr>\n",
       "    <tr>\n",
       "      <th>std</th>\n",
       "      <td>1.446357e+04</td>\n",
       "      <td>0.194148</td>\n",
       "      <td>25.936391</td>\n",
       "    </tr>\n",
       "    <tr>\n",
       "      <th>min</th>\n",
       "      <td>1.000001e+06</td>\n",
       "      <td>0.000000</td>\n",
       "      <td>0.000000</td>\n",
       "    </tr>\n",
       "    <tr>\n",
       "      <th>25%</th>\n",
       "      <td>1.012468e+06</td>\n",
       "      <td>0.000000</td>\n",
       "      <td>0.000000</td>\n",
       "    </tr>\n",
       "    <tr>\n",
       "      <th>50%</th>\n",
       "      <td>1.025045e+06</td>\n",
       "      <td>0.000000</td>\n",
       "      <td>0.000000</td>\n",
       "    </tr>\n",
       "    <tr>\n",
       "      <th>75%</th>\n",
       "      <td>1.037592e+06</td>\n",
       "      <td>0.000000</td>\n",
       "      <td>0.000000</td>\n",
       "    </tr>\n",
       "    <tr>\n",
       "      <th>max</th>\n",
       "      <td>1.049996e+06</td>\n",
       "      <td>1.000000</td>\n",
       "      <td>1659.400000</td>\n",
       "    </tr>\n",
       "  </tbody>\n",
       "</table>\n",
       "</div>"
      ],
      "text/plain": [
       "            user_id     converted   total_spent\n",
       "count  2.434300e+04  24343.000000  24343.000000\n",
       "mean   1.025020e+06      0.039231      3.374518\n",
       "std    1.446357e+04      0.194148     25.936391\n",
       "min    1.000001e+06      0.000000      0.000000\n",
       "25%    1.012468e+06      0.000000      0.000000\n",
       "50%    1.025045e+06      0.000000      0.000000\n",
       "75%    1.037592e+06      0.000000      0.000000\n",
       "max    1.049996e+06      1.000000   1659.400000"
      ]
     },
     "execution_count": 26,
     "metadata": {},
     "output_type": "execute_result"
    }
   ],
   "source": [
    "control_df.describe()"
   ]
  },
  {
   "cell_type": "code",
   "execution_count": 27,
   "id": "6449a349",
   "metadata": {},
   "outputs": [
    {
     "data": {
      "text/html": [
       "<div>\n",
       "<style scoped>\n",
       "    .dataframe tbody tr th:only-of-type {\n",
       "        vertical-align: middle;\n",
       "    }\n",
       "\n",
       "    .dataframe tbody tr th {\n",
       "        vertical-align: top;\n",
       "    }\n",
       "\n",
       "    .dataframe thead th {\n",
       "        text-align: right;\n",
       "    }\n",
       "</style>\n",
       "<table border=\"1\" class=\"dataframe\">\n",
       "  <thead>\n",
       "    <tr style=\"text-align: right;\">\n",
       "      <th></th>\n",
       "      <th>user_id</th>\n",
       "      <th>converted</th>\n",
       "      <th>total_spent</th>\n",
       "    </tr>\n",
       "  </thead>\n",
       "  <tbody>\n",
       "    <tr>\n",
       "      <th>count</th>\n",
       "      <td>2.460000e+04</td>\n",
       "      <td>24600.000000</td>\n",
       "      <td>24600.000000</td>\n",
       "    </tr>\n",
       "    <tr>\n",
       "      <th>mean</th>\n",
       "      <td>1.024982e+06</td>\n",
       "      <td>0.046301</td>\n",
       "      <td>3.390867</td>\n",
       "    </tr>\n",
       "    <tr>\n",
       "      <th>std</th>\n",
       "      <td>1.440737e+04</td>\n",
       "      <td>0.210140</td>\n",
       "      <td>25.414110</td>\n",
       "    </tr>\n",
       "    <tr>\n",
       "      <th>min</th>\n",
       "      <td>1.000000e+06</td>\n",
       "      <td>0.000000</td>\n",
       "      <td>0.000000</td>\n",
       "    </tr>\n",
       "    <tr>\n",
       "      <th>25%</th>\n",
       "      <td>1.012534e+06</td>\n",
       "      <td>0.000000</td>\n",
       "      <td>0.000000</td>\n",
       "    </tr>\n",
       "    <tr>\n",
       "      <th>50%</th>\n",
       "      <td>1.024953e+06</td>\n",
       "      <td>0.000000</td>\n",
       "      <td>0.000000</td>\n",
       "    </tr>\n",
       "    <tr>\n",
       "      <th>75%</th>\n",
       "      <td>1.037413e+06</td>\n",
       "      <td>0.000000</td>\n",
       "      <td>0.000000</td>\n",
       "    </tr>\n",
       "    <tr>\n",
       "      <th>max</th>\n",
       "      <td>1.049999e+06</td>\n",
       "      <td>1.000000</td>\n",
       "      <td>1546.300000</td>\n",
       "    </tr>\n",
       "  </tbody>\n",
       "</table>\n",
       "</div>"
      ],
      "text/plain": [
       "            user_id     converted   total_spent\n",
       "count  2.460000e+04  24600.000000  24600.000000\n",
       "mean   1.024982e+06      0.046301      3.390867\n",
       "std    1.440737e+04      0.210140     25.414110\n",
       "min    1.000000e+06      0.000000      0.000000\n",
       "25%    1.012534e+06      0.000000      0.000000\n",
       "50%    1.024953e+06      0.000000      0.000000\n",
       "75%    1.037413e+06      0.000000      0.000000\n",
       "max    1.049999e+06      1.000000   1546.300000"
      ]
     },
     "execution_count": 27,
     "metadata": {},
     "output_type": "execute_result"
    }
   ],
   "source": [
    "treatment_df.describe()"
   ]
  },
  {
   "cell_type": "markdown",
   "id": "29c9fac9",
   "metadata": {},
   "source": [
    "Null Hypothesis (H0): There is no significant difference in the average amount spent per user  between the treatment and control groups.\n",
    "\n",
    "Alternative Hypothesis (H1): There is a significant difference in the average amount spent per user  between the treatment and control groups."
   ]
  },
  {
   "cell_type": "code",
   "execution_count": 28,
   "id": "c8568448",
   "metadata": {},
   "outputs": [],
   "source": [
    "c_df = control_df[\"total_spent\"]"
   ]
  },
  {
   "cell_type": "code",
   "execution_count": 29,
   "id": "e2ee9765",
   "metadata": {},
   "outputs": [],
   "source": [
    "t_df = treatment_df[\"total_spent\"]"
   ]
  },
  {
   "cell_type": "code",
   "execution_count": 30,
   "id": "a4608948",
   "metadata": {
    "scrolled": true
   },
   "outputs": [
    {
     "name": "stdout",
     "output_type": "stream",
     "text": [
      "T-statistic: 0.07043243220818624\n",
      "P-value: 0.9438497659410892\n"
     ]
    }
   ],
   "source": [
    "t_statistic, p_value = ttest_ind(t_df,c_df)\n",
    "\n",
    "print(\"T-statistic:\", t_statistic)\n",
    "print(\"P-value:\", p_value)"
   ]
  },
  {
   "cell_type": "markdown",
   "id": "08342d38",
   "metadata": {},
   "source": [
    "A higher p-value, such as 0.9438, suggests weak evidence against the null hypothesis. So here we are fail to reject Null hypothesis. This means we would conclude that there is a significant difference in the average amount spent per user between the treatment and control groups."
   ]
  },
  {
   "cell_type": "markdown",
   "id": "40ea4cd5",
   "metadata": {},
   "source": [
    "What is the 95% confidence interval for the difference in the average amount spent per user between the treatment and the control (treatment-control)?"
   ]
  },
  {
   "cell_type": "code",
   "execution_count": 90,
   "id": "d42034fb",
   "metadata": {},
   "outputs": [],
   "source": [
    "import pingouin as pg"
   ]
  },
  {
   "cell_type": "code",
   "execution_count": 93,
   "id": "2053f2d0",
   "metadata": {},
   "outputs": [
    {
     "name": "stdout",
     "output_type": "stream",
     "text": [
      "               T           dof alternative     p-val          CI95%   cohen-d  \\\n",
      "T-test -0.070425  48894.497311   two-sided  0.943856  [-0.47, 0.44]  0.000637   \n",
      "\n",
      "        BF10     power  \n",
      "T-test  0.01  0.050568  \n"
     ]
    }
   ],
   "source": [
    "res = pg.ttest(c_df,t_df,paired=False)\n",
    "print(res)"
   ]
  },
  {
   "cell_type": "markdown",
   "id": "95d82801",
   "metadata": {},
   "source": [
    "95% confidence interval  = [-0.47, 0.44]"
   ]
  },
  {
   "cell_type": "markdown",
   "id": "91f7e6dd",
   "metadata": {},
   "source": [
    "# Check for Novelty Effects"
   ]
  },
  {
   "cell_type": "code",
   "execution_count": 94,
   "id": "1117e9ae",
   "metadata": {},
   "outputs": [
    {
     "data": {
      "text/plain": [
       "group_type\n",
       "Control      3.374518\n",
       "Treatment    3.390867\n",
       "Name: total_spent, dtype: float64"
      ]
     },
     "execution_count": 94,
     "metadata": {},
     "output_type": "execute_result"
    }
   ],
   "source": [
    "df.groupby([\"group_type\"])[\"total_spent\"].mean()"
   ]
  },
  {
   "cell_type": "code",
   "execution_count": 95,
   "id": "3a486ddb",
   "metadata": {},
   "outputs": [
    {
     "data": {
      "text/plain": [
       "group_type  device_type  converted\n",
       "Control     android      0            14637\n",
       "                         1              417\n",
       "            i_phone      0             8607\n",
       "                         1              535\n",
       "            other        0              144\n",
       "                         1                3\n",
       "Treatment   android      0            14698\n",
       "                         1              537\n",
       "            i_phone      0             8622\n",
       "                         1              596\n",
       "            other        0              141\n",
       "                         1                6\n",
       "Name: count, dtype: int64"
      ]
     },
     "execution_count": 95,
     "metadata": {},
     "output_type": "execute_result"
    }
   ],
   "source": [
    "df.groupby([\"group_type\",\"device_type\"])[\"converted\"].value_counts()"
   ]
  },
  {
   "cell_type": "code",
   "execution_count": 96,
   "id": "40960311",
   "metadata": {},
   "outputs": [
    {
     "data": {
      "text/plain": [
       "group_type  device_type\n",
       "Control     android        2.312639\n",
       "            i_phone        5.072231\n",
       "            other          6.538095\n",
       "Treatment   android        2.465895\n",
       "            i_phone        4.918564\n",
       "            other          3.456487\n",
       "Name: total_spent, dtype: float64"
      ]
     },
     "execution_count": 96,
     "metadata": {},
     "output_type": "execute_result"
    }
   ],
   "source": [
    "df.groupby([\"group_type\",\"device_type\"])[\"total_spent\"].mean()"
   ]
  },
  {
   "cell_type": "code",
   "execution_count": 97,
   "id": "dafaeded",
   "metadata": {},
   "outputs": [
    {
     "data": {
      "text/plain": [
       "group_type  device_type\n",
       "Control     android        34814.470516\n",
       "            i_phone        46370.332548\n",
       "            other            961.100000\n",
       "Treatment   android        37567.903211\n",
       "            i_phone        45339.320053\n",
       "            other            508.103605\n",
       "Name: total_spent, dtype: float64"
      ]
     },
     "execution_count": 97,
     "metadata": {},
     "output_type": "execute_result"
    }
   ],
   "source": [
    "df.groupby([\"group_type\",\"device_type\"])[\"total_spent\"].sum()"
   ]
  },
  {
   "cell_type": "code",
   "execution_count": 98,
   "id": "e21f4c43",
   "metadata": {},
   "outputs": [
    {
     "data": {
      "text/plain": [
       "group_type  converted\n",
       "Control     0            23388\n",
       "            1              955\n",
       "Treatment   0            23461\n",
       "            1             1139\n",
       "Name: count, dtype: int64"
      ]
     },
     "execution_count": 98,
     "metadata": {},
     "output_type": "execute_result"
    }
   ],
   "source": [
    "df.groupby([\"group_type\"])[\"converted\"].value_counts()"
   ]
  },
  {
   "cell_type": "markdown",
   "id": "dcc48836",
   "metadata": {},
   "source": [
    "there are several ways we can correct for novelty effects when detected in our test. The first way is to increase the test duration until we see the metrics converge to stable levels. Additionally, we can examine the results of new and returning user cohorts separately. If novelty effects exist, we can expect new users who are seeing either the control or treatment variants for the first time to have the cleanest data, whereas returning users may experience novelty effects or change aversion as they are inherently comparing their default experience to the new one."
   ]
  },
  {
   "cell_type": "code",
   "execution_count": 99,
   "id": "7a105245",
   "metadata": {},
   "outputs": [
    {
     "data": {
      "image/png": "[encoded data removed]",
      "text/plain": [
       "<Figure size 640x480 with 1 Axes>"
      ]
     },
     "metadata": {},
     "output_type": "display_data"
    }
   ],
   "source": [
    "sns.barplot(data=df, x='group_type', y='total_spent', errorbar=None)\n",
    "plt.show()"
   ]
  },
  {
   "cell_type": "code",
   "execution_count": 100,
   "id": "3f0bde60",
   "metadata": {},
   "outputs": [
    {
     "data": {
      "image/png": "[encoded data removed]",
      "text/plain": [
       "<Figure size 640x480 with 1 Axes>"
      ]
     },
     "metadata": {},
     "output_type": "display_data"
    }
   ],
   "source": [
    "sns.barplot(data=df, x='group_type', y='total_spent', hue='device_type', errorbar=None)\n",
    "plt.show()"
   ]
  },
  {
   "cell_type": "code",
   "execution_count": 101,
   "id": "5591a3be",
   "metadata": {},
   "outputs": [
    {
     "data": {
      "image/png": "[encoded data removed]",
      "text/plain": [
       "<Figure size 640x480 with 1 Axes>"
      ]
     },
     "metadata": {},
     "output_type": "display_data"
    }
   ],
   "source": [
    "sns.barplot(data=df, x='group_type', y='total_spent', hue='gender', errorbar=None)\n",
    "plt.show()"
   ]
  },
  {
   "cell_type": "code",
   "execution_count": 102,
   "id": "0347290e",
   "metadata": {},
   "outputs": [
    {
     "data": {
      "image/png": "[encoded data removed]",
      "text/plain": [
       "<Figure size 640x480 with 1 Axes>"
      ]
     },
     "metadata": {},
     "output_type": "display_data"
    }
   ],
   "source": [
    "sns.set(style=\"whitegrid\")\n",
    "sns.lineplot(x='device_type', y='total_spent', hue='group_type', data=df, marker='o', palette='Set2',errorbar=None)\n",
    "plt.xlabel('Device Type')\n",
    "plt.ylabel('Total Spent')\n",
    "plt.title('Total Spent by Device Type')\n",
    "plt.legend(title='Group Type')\n",
    "plt.show()"
   ]
  },
  {
   "cell_type": "markdown",
   "id": "a8c5c695",
   "metadata": {},
   "source": [
    "# Power Analysis"
   ]
  },
  {
   "cell_type": "markdown",
   "id": "d06357a0",
   "metadata": {},
   "source": [
    "# Sample Size for Comparing Two Independent Means"
   ]
  },
  {
   "cell_type": "code",
   "execution_count": 155,
   "id": "e6c06d92",
   "metadata": {},
   "outputs": [
    {
     "data": {
      "text/plain": [
       "25.676578483094094"
      ]
     },
     "execution_count": 155,
     "metadata": {},
     "output_type": "execute_result"
    }
   ],
   "source": [
    "pooled_sd  = np.sqrt(((25.936391)**2 + (25.414110)**2) / 2)\n",
    "pooled_sd"
   ]
  },
  {
   "cell_type": "code",
   "execution_count": 131,
   "id": "248db725",
   "metadata": {},
   "outputs": [
    {
     "data": {
      "text/plain": [
       "0.016348999999999947"
      ]
     },
     "execution_count": 131,
     "metadata": {},
     "output_type": "execute_result"
    }
   ],
   "source": [
    "#difference in mean:\n",
    "3.390867-3.374518"
   ]
  },
  {
   "cell_type": "markdown",
   "id": "32aba5fb",
   "metadata": {},
   "source": [
    "Assuming a pooled standard deviation of 25.674946 units, the study would require a sample size of:\n",
    "\n",
    "38714563\n",
    "for each group (i.e. a total sample size of 77429126, assuming equal group sizes), to achieve a power of 80% and a level of significance of 5% (two sided), for detecting a true difference in means between the test and the reference group of 0.016348999999999947 units.\n",
    "\n",
    "In other words, if you select a random sample of 38714563 from each population, and determine that the difference in the two means is 0.016348999999999947 units, and the pooled standard deviation is 25.674946 units, you would have 80% power to declare that the two groups have significantly different means, i.e. a two sided p-value of less than 0.05."
   ]
  },
  {
   "cell_type": "markdown",
   "id": "4a9176b4",
   "metadata": {},
   "source": [
    "# Sample Size for Comparing conversion rates"
   ]
  },
  {
   "cell_type": "markdown",
   "id": "d4d6f185",
   "metadata": {},
   "source": [
    "The Minimum Detectable Effect (MDE) is calculated as the sum of the baseline proportion and the desired difference:\n",
    "\n",
    "Baseline proportion(control group conversion rate) = 0.0392(3.92%)\n",
    "\n",
    "Desired Difference in Proportions is 0.007 (or 0.7%)\n",
    "\n",
    "MDE (%) =Baseline Proportion (%)+ Desired Difference (%)\n",
    "MDE (%)=Baseline Proportion (%)+Desired Difference (%)\n",
    "\n",
    "MDE (%)=3.92%+0.7%=4.62%"
   ]
  },
  {
   "cell_type": "markdown",
   "id": "7ad89f93",
   "metadata": {},
   "source": [
    "Baseline Conversion Rate (%): 3.92%\n",
    "Minimum Detectable Effect (%): 4.62%\n",
    "A/B Split Ratio: 0.5 (equal group sizes)\n",
    "Significance (α): 0.05 \n",
    "\n",
    "Statistical Power (1 - β): 0.8 (the probability of correctly rejecting a false null hypothesis)\n",
    "\n",
    "Test Size: 180.1k\n",
    "Control Size: 180.1k\n",
    "Total Sample Size: 360.2k"
   ]
  },
  {
   "cell_type": "markdown",
   "id": "150cc980",
   "metadata": {},
   "source": [
    "https://www.statsig.com/calculator?mde=4.62&bcr=3.9230990428459926&twoSided=true&splitRatio=0.5&alpha=0.05&power=0.8"
   ]
  },
  {
   "cell_type": "markdown",
   "id": "84f506d4",
   "metadata": {},
   "source": [
    "In evaluating the sample sizes for comparing two independent means and conversion rates, it was determined that the study lacked sufficient sensitivity. For the comparison of means, assuming a pooled standard deviation of 25.674946 units, a sample size of 38714563 for each group, totaling 77429126, is recommended to achieve 80% power at a 5% significance level, detecting a true difference of 0.016348999999999947 units. Similarly, for comparing conversion rates, considering a baseline rate of 3.92% and a desired difference of 0.7%, a total sample size of 360.2k, evenly split between test and control groups, is advised to attain a statistical power of 80% at a 5% significance level. "
   ]
  },
  {
   "cell_type": "code",
   "execution_count": null,
   "id": "4b60c4d6",
   "metadata": {},
   "outputs": [],
   "source": []
  }
 ],
 "metadata": {
  "kernelspec": {
   "display_name": "Python 3 (ipykernel)",
   "language": "python",
   "name": "python3"
  },
  "language_info": {
   "codemirror_mode": {
    "name": "ipython",
    "version": 3
   },
   "file_extension": ".py",
   "mimetype": "text/x-python",
   "name": "python",
   "nbconvert_exporter": "python",
   "pygments_lexer": "ipython3",
   "version": "3.11.4"
  }
 },
 "nbformat": 4,
 "nbformat_minor": 5
}
